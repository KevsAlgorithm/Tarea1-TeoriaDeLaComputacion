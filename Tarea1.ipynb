{
 "cells": [
  {
   "cell_type": "markdown",
   "metadata": {},
   "source": [
    "# Tarea 1 - Kevin Hernandez Jaramillo - 10018742"
   ]
  },
  {
   "cell_type": "markdown",
   "metadata": {},
   "source": [
    "# Ejercicios:"
   ]
  },
  {
   "cell_type": "markdown",
   "metadata": {},
   "source": [
    "## 1.1:"
   ]
  },
  {
   "cell_type": "markdown",
   "metadata": {},
   "source": [
    "- a) ¿Cuál es el estado inicial?  \n",
    "$M_1$: $q_1$  \n",
    "$M_2$: $q_1$\n",
    "- b) ¿Cuál es el conjunto de estados de aceptación?  \n",
    "$M_1$: {$q_2$}  \n",
    "$M_2$: {$q_1,q_4$}\n",
    "- c) ¿Qué secuencia de estados hace cada máquina con el input aabb?  \n",
    "$M_1$: $q_1, q_2, q_3, q_1, q_1$  \n",
    "$M_2$: $q_1,q_1,q_1,q_2,q_4$\n",
    "- d) ¿La máquina acepta la cadena aabb?  \n",
    "$M_1$: No  \n",
    "$M_2$: Sí\n",
    "- e) ¿La máquina acepta la cadena $\\epsilon$?  \n",
    "$M_1$: No  \n",
    "$M_2$: Sí"
   ]
  },
  {
   "cell_type": "markdown",
   "metadata": {},
   "source": [
    "## 1.3:"
   ]
  },
  {
   "cell_type": "markdown",
   "metadata": {},
   "source": [
    "<img src=\"AFD.png\">"
   ]
  },
  {
   "cell_type": "markdown",
   "metadata": {},
   "source": [
    "## 1.6:"
   ]
  },
  {
   "cell_type": "markdown",
   "metadata": {},
   "source": [
    "### 1:"
   ]
  },
  {
   "cell_type": "markdown",
   "metadata": {},
   "source": [
    "<img src=\"1.png\">"
   ]
  },
  {
   "cell_type": "markdown",
   "metadata": {},
   "source": [
    "### 2:"
   ]
  },
  {
   "cell_type": "markdown",
   "metadata": {},
   "source": [
    "<img src=\"2.png\">"
   ]
  },
  {
   "cell_type": "markdown",
   "metadata": {},
   "source": [
    "### 3:"
   ]
  },
  {
   "cell_type": "markdown",
   "metadata": {},
   "source": [
    "<img src=\"3.png\">"
   ]
  },
  {
   "cell_type": "markdown",
   "metadata": {},
   "source": [
    "### 4:"
   ]
  },
  {
   "cell_type": "markdown",
   "metadata": {},
   "source": [
    "<img src=\"4.png\">"
   ]
  },
  {
   "cell_type": "markdown",
   "metadata": {},
   "source": [
    "### 5:"
   ]
  },
  {
   "cell_type": "markdown",
   "metadata": {},
   "source": [
    "<img src=\"5.png\">"
   ]
  },
  {
   "cell_type": "markdown",
   "metadata": {},
   "source": [
    "### 6:"
   ]
  },
  {
   "cell_type": "markdown",
   "metadata": {},
   "source": [
    "<img src=\"6.png\">"
   ]
  },
  {
   "cell_type": "markdown",
   "metadata": {},
   "source": [
    "### 7:"
   ]
  },
  {
   "cell_type": "markdown",
   "metadata": {},
   "source": [
    "<img src=\"7.png\">"
   ]
  },
  {
   "cell_type": "markdown",
   "metadata": {},
   "source": [
    "### 8:"
   ]
  },
  {
   "cell_type": "markdown",
   "metadata": {},
   "source": [
    "<img src=\"8.png\">"
   ]
  },
  {
   "cell_type": "markdown",
   "metadata": {},
   "source": [
    "### 9:"
   ]
  },
  {
   "cell_type": "markdown",
   "metadata": {},
   "source": [
    "<img src=\"9.png\">"
   ]
  },
  {
   "cell_type": "markdown",
   "metadata": {},
   "source": [
    "### 10:"
   ]
  },
  {
   "cell_type": "markdown",
   "metadata": {},
   "source": [
    "<img src=\"10.png\">"
   ]
  },
  {
   "cell_type": "markdown",
   "metadata": {},
   "source": [
    "### 11:"
   ]
  },
  {
   "cell_type": "markdown",
   "metadata": {},
   "source": [
    "<img src=\"11.png\">"
   ]
  },
  {
   "cell_type": "markdown",
   "metadata": {},
   "source": [
    "### 12:"
   ]
  },
  {
   "cell_type": "markdown",
   "metadata": {},
   "source": [
    "<img src=\"12.png\">"
   ]
  },
  {
   "cell_type": "markdown",
   "metadata": {},
   "source": [
    "### 13:"
   ]
  },
  {
   "cell_type": "markdown",
   "metadata": {},
   "source": [
    "<img src=\"13.png\">"
   ]
  },
  {
   "cell_type": "markdown",
   "metadata": {},
   "source": [
    "### 14:"
   ]
  },
  {
   "cell_type": "markdown",
   "metadata": {},
   "source": [
    "<img src=\"14.png\">"
   ]
  },
  {
   "cell_type": "markdown",
   "metadata": {},
   "source": [
    "## 1.12:"
   ]
  },
  {
   "cell_type": "markdown",
   "metadata": {},
   "source": [
    "El hecho de que $w \\in D$ no contenga el substring $ab$ implica que no haya ninguna $a$ antes de una $b$, por lo tanto  \n",
    "podemos representarlo como:  \n",
    "$w = b^i a^j$  \n",
    "con $i$ un número impar, y $j$ un número par.  \n",
    "Y su expresión regular podemos representarla como:  \n",
    "$b(bb)^*aa(aa)^*|b(bb)^*$  \n",
    "que simplificado se ve como:  \n",
    "$b(bb)^*(aa)^*$  \n",
    "<img src=\"1_12.png\">"
   ]
  },
  {
   "cell_type": "markdown",
   "metadata": {},
   "source": [
    "## 1.18:"
   ]
  },
  {
   "cell_type": "markdown",
   "metadata": {},
   "source": [
    "\n",
    " 1. $1(0|1)^*0$\n",
    " 2. $(0|1)^*1(0|1)^*1(0|1)^*1(0|1)^*$\n",
    " 3. $(0|1)^*0101(0|1)^*$\n",
    " 4. $(0|1)^20(0|1)^*$\n",
    " 5. $0(0|1)((0|1)^2)^*|1((0|1)^2)^*$\n",
    " 6. $0^*(100^*)^*1^*$\n",
    " 7. $(0|1)^0|(0|1)^1|(0|1)^2|(0|1)^3|(0|1)^4|(0|1)^5$\n",
    " 8. $\\epsilon|(0|1)|(00|01|10)|(000|001|010|011|100|101|110)|(0|1)^4(0|1)^*$\n",
    " 9. $(10|11)(10|11)^*$\n",
    " 10. $000^*|1000^*|0100^*|0010^*|000^*1$\n",
    " 11. $\\epsilon|0$\n",
    " 12. $(001^*|01^*0|1^*00)^*|(110^*|10^*1|0^*11)$\n",
    " 13. $\\emptyset$\n",
    " 14. $(0|1)(0|1)^*$"
   ]
  },
  {
   "cell_type": "markdown",
   "metadata": {},
   "source": [
    "## 1.48:"
   ]
  },
  {
   "cell_type": "markdown",
   "metadata": {},
   "source": [
    "Primero, notemos que, si $w \\in D$ entonces $w$ contiene el mimso número de ocurrencias de las substrings $01$ y $10$, es decir, si tiene la misma cantidad de cambios de $1$ a $0$ que de $0$ a $1$, y esto solo se cumple si la entrada termina con el mismo símbolo que con el que empieza.  \n",
    "Lo demostraremos por inducción(en la longitud de la cadena):  \n",
    "### Caso base: (longitud 1 y 2): \n",
    "Tenemos las cadenas: $0$ y $1$ que tienen 0 ocurrencias de $01$ y $10$ y ambas empiezan y terminan con el mismo símbolo.  \n",
    "Tenemos las cadenas: $00$ y $11$ que tienen 0 ocurrencias de $01$ y $10$ y comienzan y terminan con el mismo valor, y las cadenas $10$ y $01$ que no tienen las mismas ocurrencias y que no empiezan y terminan con el mismo valor.  \n",
    "### Hipótesis de inducción:  \n",
    "Supongamos que esas condiciones se cumplen para n.  \n",
    "### Paso inductivo:  \n",
    "Tomemos alguna cadena $w$ de longitud n+1 que sea parte de D.  \n",
    "Si le eliminamos su último símbolo obtendremos $w'$ de longitud n.  \n",
    "Tenemos 2 posibilidades para $w'$:  \n",
    "1) Si $w' \\in D$ entonces por hipótesis de inducción, $w'$ comienza y termina con el mismo símbolo. y como también $w \\in D$ entonces la única posibilidad es que el símbolo que eliminamos de $w$ sea el símbolo con el que termina $w'$, de otra forma no tendríamos la misma cantidad de ocurrencias de las substrings $10$ y $01$.  \n",
    "2) Si $w' \\notin D$ entonces $w'$ no tiene las mismas ocurrencias de los substrings $10$ y $01$, entonces por hipótesis de inducción, $w'$ no comienza y termina con los mísmos síbolos, entonces, la única posibilidad es que el símbolo que eliminamos de $w$ sea distinto al símbolo con el que termina $w'$, ya que $w \\in D$, y como solo tenemos 2 símbolos, entonces w comienza y termina con el mísmo símbolo.  \n",
    "Por lo tanto, se cumplen nuestras condiciones de que $w \\in D$ tiene la misma cantidad de ocurrencias de las substrings $10$ y $01$ si $w$ comienza y termina con el mismo símbolo.  \n",
    "### Y esto lo podemos escribir como la expresión regular que describe a D:  \n",
    "$0|(0|1)^*0 | 1|(0|1)^*1$\n",
    "### Lo que simultaneamente nos prueba que el lenguaje es regular."
   ]
  },
  {
   "cell_type": "markdown",
   "metadata": {},
   "source": [
    "## 2.1:"
   ]
  },
  {
   "cell_type": "markdown",
   "metadata": {},
   "source": [
    "1) Derivación simple: $E -> T -> F -> a$  \n",
    "<img src=\"arbol1.png\">"
   ]
  },
  {
   "cell_type": "markdown",
   "metadata": {},
   "source": [
    "2) Derivación simple: $E -> E+T -> T+T -> F+T -> a+T -> a+F -> a+a$  \n",
    "<img src=\"arbol2.png\">"
   ]
  },
  {
   "cell_type": "markdown",
   "metadata": {},
   "source": [
    "3) Derivación simple: $E -> E+T -> E+T+T -> T+T+T -> F+T+T$  \n",
    "$-> a+T+T -> a+F+T -> a+a+T -> a+a+F -> a+a+a$  \n",
    "<img src=\"arbol3.png\">"
   ]
  },
  {
   "cell_type": "markdown",
   "metadata": {},
   "source": [
    "4) Derivación simple: $E -> T -> F -> (E) -> (T)$  \n",
    "$-> (F) -> ((E)) -> ((T)) -> ((F)) -> ((a))$  \n",
    "<img src=\"arbol4.png\">"
   ]
  },
  {
   "cell_type": "markdown",
   "metadata": {},
   "source": [
    "## 2.2:"
   ]
  },
  {
   "cell_type": "markdown",
   "metadata": {},
   "source": [
    "#### a)  \n",
    "Primero construiremos las gramáticas libres de contexto que describen a A y a B:  \n",
    "La gramática que genera a A es:  \n",
    "S -> TR  \n",
    "T -> aT | $\\epsilon$  \n",
    "R -> bRc | $\\epsilon$  \n",
    "Esta es libre de contexto.  \n",
    "La gramática que genera a B es:  \n",
    "S -> TR  \n",
    "T -> aTb | $\\epsilon$  \n",
    "R -> cR | $\\epsilon$  \n",
    "Esta es libre de contexto.  \n",
    "Como podemos describir a A y B como gramáticas libres de contexto que las generen, entonces A y B son Lenguajes libres de contexto.  \n",
    "Observemos que para que una cadena en A pertenezca a B, la m de $a^m$ debe valer n.  \n",
    "Y para que una cadena de B pertenezca a A, la m de $c^m$ debe valer n.  \n",
    "Por lo tanto, concluímos que la intersección de ambos lenguajes es:  \n",
    "C = {$a^nb^nc^n$|n$\\ge$0}  \n",
    "Ahora vamos a suponer que C es un lenguaje libre de contexto.  \n",
    "Usemos el lema del bombeo:  \n",
    "Usaremos la segunda condición a cumplir, es decir, tanto $v$ como $y$ no son vacías y, siguiendo esto, se debería cumplir uno de los 2 siguientes casos:  \n",
    "1. Si tanto $v$ y $y$ contienen un solo tipo de símbolo del alfabeto, entonces $v$ no contiene a's y b's ni b's y c's, y esto también se cumple para $y$.  \n",
    "Por lo tanto la string $uv^2xy^2z$ no puede tener el mismo número de a's, b's y c's.  \n",
    "Por lo tanto no puede ser parte de C, y esto viola la parte 1 del lema.  \n",
    "2. Cuando ya sea $v$ o $y$ contiene más de un tipo de símbolo del alfabeto, entonces $uv^2xy^2z$ puede contener la misma cantidad de a's,b's y c's, pero no en el orden correcto.  \n",
    "Por lo tanto esto tampoco forma parte de C.  \n",
    "Ahora, se supone que uno de esos 2 casos debe ocurrir, pero ninguno ocurre.  \n",
    "Por lo tanto tenemos una contradicción y, por lo tanto, C no es Libre de contexto.  \n",
    "Y por lo tanto, la intersección de 2 lenguajes libres de contexto no necesariamente es libre de contexto, es decir, que la clase de lenguajes libres de contexto no es cerrada bajo la intersección."
   ]
  },
  {
   "cell_type": "markdown",
   "metadata": {},
   "source": [
    "#### b)  \n",
    "Ya demostramos que de la intersección de 2 lenguajes libres de contexto no necesariamente obtenemos uno libre de contexto, ahora, escribimos la intersección como la unión de sus complementos, es decir, usamos morgan:  \n",
    "$X \\cap Y$ = $\\overline{\\bar{X}\\cup\\bar{Y}}$  \n",
    "Y de aquí concluímos que los lenguajes libres de contexto no son cerrados bajo el complemento, de hecho, si fuesen cerrados bajo el complemento también lo serían bajo la inersección, pero ya demostramos que no es así."
   ]
  },
  {
   "cell_type": "markdown",
   "metadata": {},
   "source": [
    "## 2.4:"
   ]
  },
  {
   "cell_type": "markdown",
   "metadata": {},
   "source": [
    "#### a)  \n",
    "S -> R1R1R1R  \n",
    "R -> 0R | 1R | $\\epsilon$"
   ]
  },
  {
   "cell_type": "markdown",
   "metadata": {},
   "source": [
    "#### b)  \n",
    "S -> 0K0 | 1K1  \n",
    "K -> KK | 0 | 1"
   ]
  },
  {
   "cell_type": "markdown",
   "metadata": {},
   "source": [
    "#### c)  \n",
    "S -> RS | 0 | 1  \n",
    "R -> 00 | 01 | 10 | 11"
   ]
  },
  {
   "cell_type": "markdown",
   "metadata": {},
   "source": [
    "#### d)  \n",
    "S -> 0 | 0S0 | 0S1 | 1S0 | 1S1"
   ]
  },
  {
   "cell_type": "markdown",
   "metadata": {},
   "source": [
    "#### e)  \n",
    "S -> 0 | 1 | 00 | 11 | 0S0 | 1S1"
   ]
  },
  {
   "cell_type": "markdown",
   "metadata": {},
   "source": [
    "#### f)  \n",
    "S -> S"
   ]
  },
  {
   "cell_type": "markdown",
   "metadata": {},
   "source": [
    "## 2.6:"
   ]
  },
  {
   "cell_type": "markdown",
   "metadata": {},
   "source": [
    "#### a)  \n",
    "S -> RaR  \n",
    "R -> RR | aRb | bRa | a | $\\epsilon$"
   ]
  },
  {
   "cell_type": "markdown",
   "metadata": {},
   "source": [
    "#### b)  \n",
    "S -> R | T  \n",
    "R -> Sab | Tba | aRb | bRa | abR | baR | Ra | aR | a  \n",
    "P -> Pab | Pba | aPb | bPa | abP | baP | Pb | bP | b"
   ]
  },
  {
   "cell_type": "markdown",
   "metadata": {},
   "source": [
    "#### c)  \n",
    "S -> TP  \n",
    "T -> 0T0 | 1T1 | #P  \n",
    "P -> 0P | 1P | $\\epsilon$"
   ]
  },
  {
   "cell_type": "markdown",
   "metadata": {},
   "source": [
    "#### d)  \n",
    "S -> ITD  \n",
    "I -> $\\epsilon$ | XE  \n",
    "D -> $\\epsilon$ | EX  \n",
    "E -> # | #XEX#  \n",
    "T -> 0T0 | 1T1 | 0E0 | 1E1 | $\\epsilon$  \n",
    "X -> $\\epsilon$ | 0X | 1X"
   ]
  },
  {
   "cell_type": "markdown",
   "metadata": {},
   "source": [
    "# Programa 1:"
   ]
  },
  {
   "cell_type": "code",
   "execution_count": 25,
   "metadata": {},
   "outputs": [],
   "source": [
    "import automatasfinitos as af\n",
    "import collections\n",
    "\n",
    "#Usamos esta función vista en clase para representar los estados con\n",
    "#números.\n",
    "def estados_enteros(automata: af.AutomataFinito, ordenar=True, inicio=0) \\\n",
    "        -> af.AutomataFinito:\n",
    "    estados = automata.estados\n",
    "    if ordenar:\n",
    "        estados = sorted(estados)\n",
    "    indice = {estado: numero\n",
    "              for numero, estado in enumerate(estados, inicio)}\n",
    "    programa = [af.Transicion(indice[estado], simbolo, indice[siguiente])\n",
    "                for estado, simbolo, siguiente in automata.programa]\n",
    "    estado_inicial = indice[automata.estado_inicial]\n",
    "    estados_de_aceptacion = [indice[estado]\n",
    "                             for estado in automata.estados_de_aceptacion]\n",
    "    return type(automata)(programa, estado_inicial, estados_de_aceptacion)"
   ]
  },
  {
   "cell_type": "code",
   "execution_count": 26,
   "metadata": {},
   "outputs": [],
   "source": [
    "def agregar(NA: af.AFN) -> af.AFN:\n",
    "    \"\"\"Función que agrega un nuevo estado inicial y final a nuestro\n",
    "    autómata.\n",
    "    -Recibe un AFN.\n",
    "    -Devuelve el mismo AFN con los estados nuevos añadidos.\"\"\"\n",
    "    NA = estados_enteros(NA, inicio=1)\n",
    "    programa = list(NA.programa)\n",
    "    programa.append(af.Transicion(0, '', NA.estado_inicial))\n",
    "    #Agregamos una nueva transición del nuevo estado inicial al\n",
    "    #antiguo estado inicial.\n",
    "    final = len(NA.estados) + 1\n",
    "    for estado in NA.estados_de_aceptacion:\n",
    "        programa.append(af.Transicion(estado,'',final))\n",
    "        #Mandamos todos los estados de aceptación a un nuevo estado\n",
    "        #de aceptación.\n",
    "    estado_inicial = 0 #Declaramos nuestro nuevo estado inicial\n",
    "    estados_de_aceptacion = [final] #También el nuevo estado final\n",
    "    \n",
    "    return af.AFN(programa, estado_inicial, estados_de_aceptacion)"
   ]
  },
  {
   "cell_type": "code",
   "execution_count": 27,
   "metadata": {},
   "outputs": [],
   "source": [
    "def parentesis(NA: af.AFN) -> af.AFN:\n",
    "    \"\"\"Función que le agrega paréntesis a cada uno de los valores en\n",
    "    las aristas de nuestro AFN si es que los hay.\n",
    "    -Recibe un AFN.\n",
    "    -Devuelve el mismo AFN con paréntesis en los valores de sus aristas.\"\"\"\n",
    "    programa = list(NA.programa)\n",
    "    programa2 = []\n",
    "    for trans in programa:\n",
    "        if(trans.simbolo != ''):\n",
    "            programa2.append(af.Transicion(trans.estado,\n",
    "                                           '('+trans.simbolo+')',\n",
    "                                           trans.siguiente))\n",
    "            #agregamos parentesis al símbolo de cada transición.\n",
    "        else:\n",
    "            programa2.append(af.Transicion(trans.estado,\n",
    "                                           trans.simbolo,\n",
    "                                           trans.siguiente))\n",
    "            #Si son épsilon los dejamos sin paréntesis.\n",
    "    return af.AFN(programa2, NA.estado_inicial, NA.estados_de_aceptacion)"
   ]
  },
  {
   "cell_type": "code",
   "execution_count": 28,
   "metadata": {},
   "outputs": [],
   "source": [
    "def aSinLoops(NA: af.AFN) -> af.AFN:\n",
    "    \"\"\"Función que aplica la regla de eliminación de loops vista en\n",
    "    clase.\n",
    "    -Recibe un AFN que pasó anteriormente por la función parentesis.\n",
    "    -Devuelve un AFN sin loops.\"\"\"\n",
    "    programa = list(NA.programa)\n",
    "    programa_loops = []\n",
    "    programa_sin_loops = []\n",
    "    \n",
    "    for trans in programa:\n",
    "        if(trans.estado == trans.siguiente):\n",
    "            programa_loops.append(af.Transicion(trans.estado,\n",
    "                                                trans.simbolo,\n",
    "                                                trans.siguiente))\n",
    "            #Añade a programa_loops las transiciones que son loops\n",
    "        else:\n",
    "            programa_sin_loops.append(af.Transicion(trans.estado,\n",
    "                                                    trans.simbolo,\n",
    "                                                    trans.siguiente))\n",
    "            #Añade a programa_sin_loops las transiciones que no son loops\n",
    "    programa_un_solo_loop = []\n",
    "    muchos_loops = []\n",
    "    for trans in programa_loops:\n",
    "        muchos_loops.append(af.Transicion(trans.estado,trans.simbolo,\n",
    "                                          trans.siguiente))\n",
    "        for trans2 in programa_loops:\n",
    "            if(trans.estado == trans2.estado):\n",
    "                if(trans.simbolo != trans2.simbolo):\n",
    "                    muchos_loops.append(af.Transicion(trans2.estado,\n",
    "                                                      trans2.simbolo,\n",
    "                                                      trans2.siguiente))\n",
    "        #revisa si hay mas de un loop en un nodo\n",
    "        if(len(muchos_loops) != 1): #Si lo hay...\n",
    "            nuevo_simbolo = trans.simbolo\n",
    "            muchos_loops.remove(trans)\n",
    "            for trans2 in muchos_loops:\n",
    "                nuevo_simbolo = nuevo_simbolo + '|' + trans2.simbolo\n",
    "            nuevo_simbolo = '(' + nuevo_simbolo + ')*'\n",
    "            programa_un_solo_loop.append(af.Transicion(trans.estado,\n",
    "                                                       nuevo_simbolo,\n",
    "                                                       trans.siguiente))\n",
    "            #Une ambos en una nueva transición con los símbolos de ambos\n",
    "            #separados con un | en un nuevo símbolo entre paréntesis\n",
    "            #y con un * al final.\n",
    "        else:\n",
    "            nuevo_simbolo = trans.simbolo + '*'\n",
    "            programa_un_solo_loop.append(af.Transicion(trans.estado,\n",
    "                                                       nuevo_simbolo,\n",
    "                                                       trans.siguiente))\n",
    "            #Si solo hay un loop en el nodo le ponemos únicamente el *\n",
    "        muchos_loops = []\n",
    "                \n",
    "    programa_sin_loops_ex = []\n",
    "    for trans in programa_sin_loops:\n",
    "        entro = 0\n",
    "        for trans2 in programa_un_solo_loop:\n",
    "            if(trans.estado == trans2.estado):\n",
    "                nuevo_simbolo = '(' + trans2.simbolo + trans.simbolo + ')'\n",
    "                programa_sin_loops_ex.append(af.Transicion(trans.estado,\n",
    "                                             nuevo_simbolo,\n",
    "                                             trans.siguiente))\n",
    "                #agrega parentesis a los elementos de programa_un_solo_loop\n",
    "                #y los mete en programa_sin_loops_ex.\n",
    "                entro = 1\n",
    "                break\n",
    "        if(entro == 0):\n",
    "            programa_sin_loops_ex.append(af.Transicion(trans.estado,\n",
    "                                                       trans.simbolo,\n",
    "                                                       trans.siguiente))\n",
    "            #Mete todas las transiciones que no eran loops en\n",
    "            #programa_sin_loops_ex.\n",
    "    programa = programa_sin_loops_ex\n",
    "    return af.AFN(programa, NA.estado_inicial, NA.estados_de_aceptacion)"
   ]
  },
  {
   "cell_type": "code",
   "execution_count": 29,
   "metadata": {},
   "outputs": [],
   "source": [
    "def aristasParalelas(NA: af.AFN) -> af.AFN:\n",
    "    \"\"\"Función que aplica la regla de eliminación de aristas paralelas\n",
    "    vista en clase.\n",
    "    -Recibe un AFN con aristas paralelas.\n",
    "    -Devuelve un AFN sin aristas paralelas.\"\"\"\n",
    "    programa = list(NA.programa)\n",
    "    aristas_repetidas = []\n",
    "    sin_aristas_repetidas = []\n",
    "    \n",
    "    for trans in programa:\n",
    "        aristas_repetidas.append(trans)\n",
    "        #compara las aristas del programa entre sí para encontrar\n",
    "        #alguna paralela\n",
    "        for trans2 in programa:\n",
    "            if(trans.estado == trans2.estado):\n",
    "                if(trans.siguiente == trans2.siguiente):\n",
    "                    if(trans.simbolo != trans2.simbolo):\n",
    "                        aristas_repetidas.append(trans2)\n",
    "                        programa.remove(trans2)\n",
    "                        #mete las aristas paralelas en aristas_repetidas\n",
    "        if(len(aristas_repetidas) != 1):\n",
    "            #si hay alguna arista paralela...\n",
    "            nuevo_simbolo = trans.simbolo\n",
    "            aristas_repetidas.remove(trans)\n",
    "            for trans2 in aristas_repetidas:\n",
    "                nuevo_simbolo = nuevo_simbolo + '|' + trans2.simbolo\n",
    "            nuevo_simbolo = '(' + nuevo_simbolo + ')'\n",
    "            sin_aristas_repetidas.append(af.Transicion(trans.estado, nuevo_simbolo,\n",
    "                                         trans.siguiente))\n",
    "            #crea una nueva transición uniendo los símbolos de todas las\n",
    "            #aristas paralelas que encontró entre 2 nodos.\n",
    "        else:\n",
    "            sin_aristas_repetidas.append(af.Transicion(trans.estado, trans.simbolo,\n",
    "                                         trans.siguiente))\n",
    "            #Si no hay ninguna solo la pasa sin modificar nada.\n",
    "        aristas_repetidas = []\n",
    "    \n",
    "    programa = sin_aristas_repetidas\n",
    "    return af.AFN(programa, NA.estado_inicial, NA.estados_de_aceptacion)"
   ]
  },
  {
   "cell_type": "code",
   "execution_count": 30,
   "metadata": {},
   "outputs": [],
   "source": [
    "def aExpresionRegular(NA: af.AFN) -> af.AFN:\n",
    "    programa = list(NA.programa)\n",
    "    programa_reducido = []\n",
    "    usadas = []\n",
    "    a_eliminar = 0\n",
    "    siguientes = []\n",
    "    estados = []\n",
    "    while True:\n",
    "        nuevoNA = aSinLoops(af.AFN(programa, NA.estado_inicial,\n",
    "                                   NA.estados_de_aceptacion))\n",
    "        #Quita loops del autómata\n",
    "        nuevoNA = aristasParalelas(nuevoNA)\n",
    "        #Quita aristas paralelas del autómata\n",
    "        programa = list(nuevoNA.programa)\n",
    "        \n",
    "        for trans in programa:\n",
    "            if(trans.estado == 0):\n",
    "                a_eliminar = trans.siguiente\n",
    "                trans_actual = trans\n",
    "                #Elige la primer arista a partir del estado inicial\n",
    "                #para comenzar a eliminar aristas\n",
    "                break\n",
    "        for trans in programa:\n",
    "            if(trans.siguiente == a_eliminar):\n",
    "                if(trans != trans_actual):\n",
    "                    siguientes.append(trans)\n",
    "                    #Revisa si hay aristas que inciden en el nodo a eliminar\n",
    "            if(trans.estado == a_eliminar):\n",
    "                estados.append(trans)\n",
    "                #Obtiene todas las aristas que parten del nodo a eliminar\n",
    "        for trans in siguientes:\n",
    "            for trans2 in estados:\n",
    "                nuevo_simbolo = '(' + trans.simbolo + trans2.simbolo + ')'\n",
    "                programa_reducido.append(af.Transicion(trans.estado,\n",
    "                                                       nuevo_simbolo,\n",
    "                                                       trans2.siguiente\n",
    "                                                      ))\n",
    "                #Por cada arista incidente en el estado a eliminar\n",
    "                #creamos una nueva transición que va del estado inicial\n",
    "                #de la arista incidente al estado siguiente de cada\n",
    "                #arista que parte del estado a eliminar.\n",
    "                usadas.append(trans)\n",
    "                #marcamos las aristas incidentes como usadas.\n",
    "\n",
    "        for trans in programa:\n",
    "            if(trans.estado == 0):\n",
    "                a_eliminar = trans.siguiente\n",
    "                usadas.append(trans)\n",
    "                for trans2 in programa:\n",
    "                    if(trans2.estado == a_eliminar):\n",
    "                        nuevo_simbolo = trans.simbolo + trans2.simbolo\n",
    "                        programa_reducido.append(af.Transicion(trans.estado,\n",
    "                                                               nuevo_simbolo,\n",
    "                                                               trans2.siguiente\n",
    "                                                              ))\n",
    "                        #creamos una transición nueva por cada arista\n",
    "                        #que parte del estado a eliminar.\n",
    "                        usadas.append(trans2)\n",
    "                        #Se marcan estas aristas como usadas.\n",
    "                break\n",
    "        \n",
    "        for trans in programa:\n",
    "            usado = 0\n",
    "            for trans2 in usadas:\n",
    "                if(trans.estado == trans2.estado):\n",
    "                    if(trans.simbolo == trans2.simbolo):\n",
    "                         if(trans.siguiente == trans2.siguiente):\n",
    "                            usado = 1\n",
    "            if(usado == 0):\n",
    "                programa_reducido.append(af.Transicion(trans.estado,\n",
    "                                                       trans.simbolo,\n",
    "                                                       trans.siguiente))\n",
    "                #Todas las aristas que no han sido usadas se añaden\n",
    "                #al programa donde están las creadas anteriormente.\n",
    "        \n",
    "        programa = programa_reducido #actualizamos el programa\n",
    "        #Vaciamos las listas usadas.\n",
    "        usadas = []\n",
    "        programa_reducido = []\n",
    "        siguientes = []\n",
    "        estados = []\n",
    "        if(len(programa) == 1):\n",
    "            #si nuestro programa solo tiene una transición, termina.\n",
    "            break\n",
    "            \n",
    "    return af.AFN(programa, NA.estado_inicial, NA.estados_de_aceptacion)"
   ]
  },
  {
   "cell_type": "code",
   "execution_count": 31,
   "metadata": {},
   "outputs": [],
   "source": [
    "def afdAExpresionRegular(NA: af.AFN) -> af.AFN:\n",
    "    \"\"\"Función que simplifica el uso del programa, une todas las\n",
    "    funciones anteriores para recibir un AFN y devolver directamente\n",
    "    la expreisión regular.\n",
    "    -Recibe un AFN o un AFD.\n",
    "    -Devuelve un AFN con la ER en su única arista.\"\"\"\n",
    "    EX = agregar(NA)\n",
    "    EX = parentesis(EX)\n",
    "    EX = aSinLoops(EX)\n",
    "    EX = aristasParalelas(EX)\n",
    "    final = aExpresionRegular(EX)\n",
    "    return final"
   ]
  },
  {
   "cell_type": "markdown",
   "metadata": {},
   "source": [
    "## Lo probamos con el ejemplo 1.21 del libro:"
   ]
  },
  {
   "cell_type": "code",
   "execution_count": 32,
   "metadata": {},
   "outputs": [],
   "source": [
    "N = af.AFN([\n",
    "    af.Transicion('q', '1', 'q'),\n",
    "    af.Transicion('q', '0', 'q0'),\n",
    "    af.Transicion('q0', '1', 'q'),\n",
    "    af.Transicion('q0', '0', 'q00'),\n",
    "    af.Transicion('q00', '0', 'q00'),\n",
    "    af.Transicion('q00', '1', 'q001'),\n",
    "    af.Transicion('q001', '1', 'q001'),\n",
    "    af.Transicion('q001', '0', 'q001')\n",
    "], 'q', ['q001'])"
   ]
  },
  {
   "cell_type": "markdown",
   "metadata": {},
   "source": [
    "### Y obtenemos la expresión que describe nuestro autómata:"
   ]
  },
  {
   "cell_type": "code",
   "execution_count": 33,
   "metadata": {},
   "outputs": [
    {
     "data": {
      "text/plain": [
       "(Transicion(estado=0, simbolo='((1)*(0))(((1)((1)*(0)))*(0))((0)*(1))(((1)|(0))*)', siguiente=5),)"
      ]
     },
     "execution_count": 33,
     "metadata": {},
     "output_type": "execute_result"
    }
   ],
   "source": [
    "expresion = afdAExpresionRegular(N)\n",
    "expresion.programa"
   ]
  },
  {
   "cell_type": "markdown",
   "metadata": {},
   "source": [
    "## Lo probamos con otro ejemplo:"
   ]
  },
  {
   "cell_type": "code",
   "execution_count": 34,
   "metadata": {},
   "outputs": [],
   "source": [
    "#Aquí definimos nuestro AFN o AFD\n",
    "N2 = af.AFN([\n",
    "    af.Transicion('A', '0', 'B'),\n",
    "    af.Transicion('B', '1', 'A')\n",
    "], 'A', ['B'])"
   ]
  },
  {
   "cell_type": "markdown",
   "metadata": {},
   "source": [
    "### Y obtenemos la expresión que lo describe:"
   ]
  },
  {
   "cell_type": "code",
   "execution_count": 35,
   "metadata": {},
   "outputs": [
    {
     "data": {
      "text/plain": [
       "(Transicion(estado=0, simbolo='(0)(((1)(0))*)', siguiente=3),)"
      ]
     },
     "execution_count": 35,
     "metadata": {},
     "output_type": "execute_result"
    }
   ],
   "source": [
    "expresion = afdAExpresionRegular(N2)\n",
    "expresion.programa"
   ]
  },
  {
   "cell_type": "markdown",
   "metadata": {},
   "source": [
    "## Lo probamos con el ejercicio 1.12:"
   ]
  },
  {
   "cell_type": "code",
   "execution_count": 36,
   "metadata": {},
   "outputs": [],
   "source": [
    "N12 = af.AFN([\n",
    "    af.Transicion('q1', 'a', 'q4'),\n",
    "    af.Transicion('q1', 'b', 'q2'),\n",
    "    af.Transicion('q2', 'a', 'q3'),\n",
    "    af.Transicion('q2', 'b', 'q1'),\n",
    "    af.Transicion('q3', 'a', 'q5'),\n",
    "    af.Transicion('q3', 'b', 'q4'),\n",
    "    af.Transicion('q4', 'a|b', 'q4'),\n",
    "    af.Transicion('q5', 'a', 'q3'),\n",
    "    af.Transicion('q5', 'b', 'q4'),\n",
    "], 'q1', ['q2', 'q5'])"
   ]
  },
  {
   "cell_type": "markdown",
   "metadata": {},
   "source": [
    "### Y nos otorga la versión no simplificada del mismo:"
   ]
  },
  {
   "cell_type": "code",
   "execution_count": 38,
   "metadata": {},
   "outputs": [
    {
     "data": {
      "text/plain": [
       "(Transicion(estado=0, simbolo='((b)(((b)(b))*(a))(a)(((a)(a))*)|(b)(((b)(b))*))', siguiente=6),)"
      ]
     },
     "execution_count": 38,
     "metadata": {},
     "output_type": "execute_result"
    }
   ],
   "source": [
    "expresion = afdAExpresionRegular(N12)\n",
    "expresion.programa"
   ]
  },
  {
   "cell_type": "markdown",
   "metadata": {},
   "source": [
    "# Programa 2:"
   ]
  },
  {
   "cell_type": "code",
   "execution_count": 34,
   "metadata": {},
   "outputs": [],
   "source": [
    "import automatasfinitos as af\n",
    "import collections\n",
    "from typing import Hashable, List, NamedTuple"
   ]
  },
  {
   "cell_type": "code",
   "execution_count": 35,
   "metadata": {},
   "outputs": [],
   "source": [
    "#Aquí definimos nuestras producciones y la gramática\n",
    "Estado = Hashable\n",
    "Simbolo = str\n",
    "class Produccion(NamedTuple):\n",
    "    variable: Simbolo\n",
    "    substitucion: str\n",
    "producciones = [\n",
    "    Produccion('E','E+T|T'),\n",
    "    Produccion('T','T×F|F'),\n",
    "    Produccion('F','(E)|a'),\n",
    "]\n",
    "terminales = ['a','+','x','(',')']\n",
    "no_terminales = ['E','T','F']\n",
    "inicial = 'E'\n",
    "gramatica = [terminales, no_terminales, producciones, inicial]"
   ]
  },
  {
   "cell_type": "code",
   "execution_count": 36,
   "metadata": {},
   "outputs": [
    {
     "name": "stdout",
     "output_type": "stream",
     "text": [
      "E+T|T\n",
      "T×F|F\n",
      "(E)|a\n"
     ]
    }
   ],
   "source": [
    "for produccion in producciones:\n",
    "    print(produccion.substitucion)"
   ]
  },
  {
   "cell_type": "code",
   "execution_count": 37,
   "metadata": {},
   "outputs": [],
   "source": [
    "def prepararGramatica(gramatica):\n",
    "    \"\"\"Función que transforma las producciones de la forma: P: Q|T\n",
    "    a producciones separadas de la forma: P:Q, P:T\n",
    "    -Recibe una gramática de la forma:\n",
    "    gramatica = [terminales, no_terminales, producciones, inicial]\n",
    "    -Devuelve una gramática como lo indica la descripción\"\"\"\n",
    "    nuevas_producciones = []\n",
    "    regla = []\n",
    "    for produccion in gramatica[2]:\n",
    "        prod = produccion.substitucion\n",
    "        a = produccion.variable\n",
    "        for letra in prod:\n",
    "            if(letra != '|'):\n",
    "                regla.append(letra)\n",
    "            elif(letra == '|'):\n",
    "                nueva_subs = \"\".join(regla)\n",
    "                nuevas_producciones.append(Produccion(a,nueva_subs))\n",
    "                regla = []\n",
    "        nueva_subs = \"\".join(regla)\n",
    "        nuevas_producciones.append(Produccion(a,nueva_subs))\n",
    "        regla = []\n",
    "    nueva_gramatica = [gramatica[0],gramatica[1],nuevas_producciones,gramatica[3]]\n",
    "    return(nueva_gramatica)"
   ]
  },
  {
   "cell_type": "code",
   "execution_count": 38,
   "metadata": {},
   "outputs": [
    {
     "data": {
      "text/plain": [
       "[['a', '+', 'x', '(', ')'],\n",
       " ['E', 'T', 'F'],\n",
       " [Produccion(variable='E', substitucion='E+T'),\n",
       "  Produccion(variable='E', substitucion='T'),\n",
       "  Produccion(variable='T', substitucion='T×F'),\n",
       "  Produccion(variable='T', substitucion='F'),\n",
       "  Produccion(variable='F', substitucion='(E)'),\n",
       "  Produccion(variable='F', substitucion='a')],\n",
       " 'E']"
      ]
     },
     "execution_count": 38,
     "metadata": {},
     "output_type": "execute_result"
    }
   ],
   "source": [
    "nueva_gramatica = prepararGramatica(gramatica)\n",
    "nueva_gramatica"
   ]
  },
  {
   "cell_type": "code",
   "execution_count": 39,
   "metadata": {},
   "outputs": [],
   "source": [
    "def gramAPila(gramatica):\n",
    "    \"\"\"Convierte una gramatica que ha pasado por la función prepararGramatica\n",
    "    a un autómata de pila.\"\"\"\n",
    "    P = []  #Programa del autómata\n",
    "    q_0 = 0 #Estado inicial del autómata\n",
    "    F = []  #Estado final del autómata\n",
    "    P.append((0, '',  '',  1, '$'))\n",
    "    P.append((1, '',  '',  2,  gramatica[3]))\n",
    "    ultimo_estado = 2 #Ayuda a llevar la cuenta de los estados creados\n",
    "    ultima_letra = 0  #Lleva la cuenta de las letras en una producción\n",
    "    estado_actual = 2\n",
    "    for produccion in gramatica[2]:\n",
    "        prod = produccion.substitucion\n",
    "        a = produccion.variable\n",
    "        if(len(prod) == 1):\n",
    "            P.append((2, '',  a,  2, prod))\n",
    "            #Añade un loop si una solo se produce un símbolo\n",
    "        else:\n",
    "            for letra in reversed(prod):\n",
    "                ultima_letra = ultima_letra + 1\n",
    "                if(ultima_letra == 1):\n",
    "                    ultimo_estado = ultimo_estado + 1\n",
    "                    P.append((estado_actual, '',  a,  ultimo_estado, letra))\n",
    "                    #Si es la primer letra que veo añado una transición\n",
    "                    #que va del estado 2 al último estado añadido\n",
    "                    estado_actual = ultimo_estado\n",
    "                elif(ultima_letra != len(prod)):\n",
    "                    ultimo_estado = ultimo_estado + 1\n",
    "                    P.append((estado_actual, '',  '',  ultimo_estado, letra))\n",
    "                    #Si no es la última ni la primera letra entonces añado\n",
    "                    #transiciones y creo estados a partir del último añadido\n",
    "                    estado_actual = ultimo_estado\n",
    "                else:\n",
    "                    P.append((estado_actual, '',  '',  2, letra))\n",
    "                    #Si es la última letra que veo añado una transición\n",
    "                    #que va del último estado añadido al estado 2\n",
    "                    estado_actual = 2\n",
    "            ultima_letra = 0\n",
    "    for terminal in gramatica[0]:\n",
    "        P.append((2, terminal,  terminal,  2, '')) \n",
    "        #añado transiciones de los símbolos terminales\n",
    "    ultimo_estado = ultimo_estado+1\n",
    "    P.append((2, '',  '$',  ultimo_estado, ''))\n",
    "    #añado el último estado\n",
    "    F = [ultimo_estado]\n",
    "    M = (P,q_0,F)\n",
    "    return M"
   ]
  },
  {
   "cell_type": "markdown",
   "metadata": {},
   "source": [
    "## Lo probamos y obtenemos:"
   ]
  },
  {
   "cell_type": "code",
   "execution_count": 40,
   "metadata": {},
   "outputs": [
    {
     "data": {
      "text/plain": [
       "([(0, '', '', 1, '$'),\n",
       "  (1, '', '', 2, 'E'),\n",
       "  (2, '', 'E', 3, 'T'),\n",
       "  (3, '', '', 4, '+'),\n",
       "  (4, '', '', 2, 'E'),\n",
       "  (2, '', 'E', 2, 'T'),\n",
       "  (2, '', 'T', 5, 'F'),\n",
       "  (5, '', '', 6, '×'),\n",
       "  (6, '', '', 2, 'T'),\n",
       "  (2, '', 'T', 2, 'F'),\n",
       "  (2, '', 'F', 7, ')'),\n",
       "  (7, '', '', 8, 'E'),\n",
       "  (8, '', '', 2, '('),\n",
       "  (2, '', 'F', 2, 'a'),\n",
       "  (2, 'a', 'a', 2, ''),\n",
       "  (2, '+', '+', 2, ''),\n",
       "  (2, 'x', 'x', 2, ''),\n",
       "  (2, '(', '(', 2, ''),\n",
       "  (2, ')', ')', 2, ''),\n",
       "  (2, '', '$', 9, '')],\n",
       " 0,\n",
       " [9])"
      ]
     },
     "execution_count": 40,
     "metadata": {},
     "output_type": "execute_result"
    }
   ],
   "source": [
    "M = gramAPila(nueva_gramatica)\n",
    "M"
   ]
  },
  {
   "cell_type": "code",
   "execution_count": null,
   "metadata": {},
   "outputs": [],
   "source": []
  }
 ],
 "metadata": {
  "kernelspec": {
   "display_name": "Python 3",
   "language": "python",
   "name": "python3"
  },
  "language_info": {
   "codemirror_mode": {
    "name": "ipython",
    "version": 3
   },
   "file_extension": ".py",
   "mimetype": "text/x-python",
   "name": "python",
   "nbconvert_exporter": "python",
   "pygments_lexer": "ipython3",
   "version": "3.8.3"
  }
 },
 "nbformat": 4,
 "nbformat_minor": 4
}
